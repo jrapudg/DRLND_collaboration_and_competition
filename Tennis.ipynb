{
 "cells": [
  {
   "cell_type": "markdown",
   "metadata": {},
   "source": [
    "# Collaboration and Competition\n",
    "\n",
    "---\n",
    "\n",
    "You are welcome to use this coding environment to train your agent for the project.  Follow the instructions below to get started!\n",
    "\n",
    "### 1. Start the Environment\n",
    "\n",
    "Run the next code cell to install a few packages.  This line will take a few minutes to run!"
   ]
  },
  {
   "cell_type": "code",
   "execution_count": 1,
   "metadata": {},
   "outputs": [],
   "source": [
    "from unityagents import UnityEnvironment\n",
    "import numpy as np"
   ]
  },
  {
   "cell_type": "markdown",
   "metadata": {},
   "source": [
    "Next, we will start the environment!  **_Before running the code cell below_**, change the `file_name` parameter to match the location of the Unity environment that you downloaded.\n",
    "\n",
    "- **Mac**: `\"path/to/Tennis.app\"`\n",
    "- **Windows** (x86): `\"path/to/Tennis_Windows_x86/Tennis.exe\"`\n",
    "- **Windows** (x86_64): `\"path/to/Tennis_Windows_x86_64/Tennis.exe\"`\n",
    "- **Linux** (x86): `\"path/to/Tennis_Linux/Tennis.x86\"`\n",
    "- **Linux** (x86_64): `\"path/to/Tennis_Linux/Tennis.x86_64\"`\n",
    "- **Linux** (x86, headless): `\"path/to/Tennis_Linux_NoVis/Tennis.x86\"`\n",
    "- **Linux** (x86_64, headless): `\"path/to/Tennis_Linux_NoVis/Tennis.x86_64\"`\n",
    "\n",
    "For instance, if you are using a Mac, then you downloaded `Tennis.app`.  If this file is in the same folder as the notebook, then the line below should appear as follows:\n",
    "```\n",
    "env = UnityEnvironment(file_name=\"Tennis.app\")\n",
    "```"
   ]
  },
  {
   "cell_type": "code",
   "execution_count": 2,
   "metadata": {},
   "outputs": [
    {
     "name": "stderr",
     "output_type": "stream",
     "text": [
      "INFO:unityagents:\n",
      "'Academy' started successfully!\n",
      "Unity Academy name: Academy\n",
      "        Number of Brains: 1\n",
      "        Number of External Brains : 1\n",
      "        Lesson number : 0\n",
      "        Reset Parameters :\n",
      "\t\t\n",
      "Unity brain name: TennisBrain\n",
      "        Number of Visual Observations (per agent): 0\n",
      "        Vector Observation space type: continuous\n",
      "        Vector Observation space size (per agent): 8\n",
      "        Number of stacked Vector Observation: 3\n",
      "        Vector Action space type: continuous\n",
      "        Vector Action space size (per agent): 2\n",
      "        Vector Action descriptions: , \n"
     ]
    }
   ],
   "source": [
    "env = UnityEnvironment(file_name=\"Tennis.app\")"
   ]
  },
  {
   "cell_type": "markdown",
   "metadata": {},
   "source": [
    "Environments contain **_brains_** which are responsible for deciding the actions of their associated agents. Here we check for the first brain available, and set it as the default brain we will be controlling from Python."
   ]
  },
  {
   "cell_type": "code",
   "execution_count": 3,
   "metadata": {},
   "outputs": [],
   "source": [
    "# get the default brain\n",
    "brain_name = env.brain_names[0]\n",
    "brain = env.brains[brain_name]"
   ]
  },
  {
   "cell_type": "markdown",
   "metadata": {},
   "source": [
    "### 2. Examine the State and Action Spaces\n",
    "\n",
    "Run the code cell below to print some information about the environment."
   ]
  },
  {
   "cell_type": "code",
   "execution_count": 4,
   "metadata": {},
   "outputs": [
    {
     "name": "stdout",
     "output_type": "stream",
     "text": [
      "Number of agents: 2\n",
      "Size of each action: 2\n",
      "There are 2 agents. Each observes a state with length: 24\n",
      "The state for the first agent looks like: [ 0.          0.          0.          0.          0.          0.\n",
      "  0.          0.          0.          0.          0.          0.\n",
      "  0.          0.          0.          0.         -6.65278625 -1.5\n",
      " -0.          0.          6.83172083  6.         -0.          0.        ]\n"
     ]
    }
   ],
   "source": [
    "# reset the environment\n",
    "env_info = env.reset(train_mode=True)[brain_name]\n",
    "\n",
    "# number of agents \n",
    "num_agents = len(env_info.agents)\n",
    "print('Number of agents:', num_agents)\n",
    "\n",
    "# size of each action\n",
    "action_size = brain.vector_action_space_size\n",
    "print('Size of each action:', action_size)\n",
    "\n",
    "# examine the state space \n",
    "states = env_info.vector_observations\n",
    "state_size = states.shape[1]\n",
    "print('There are {} agents. Each observes a state with length: {}'.format(states.shape[0], state_size))\n",
    "print('The state for the first agent looks like:', states[0])"
   ]
  },
  {
   "cell_type": "markdown",
   "metadata": {},
   "source": [
    "### 3. Take Random Actions in the Environment\n",
    "\n",
    "In the next code cell, you will learn how to use the Python API to control the agent and receive feedback from the environment.\n",
    "\n",
    "Note that **in this coding environment, you will not be able to watch the agents while they are training**, and you should set `train_mode=True` to restart the environment."
   ]
  },
  {
   "cell_type": "code",
   "execution_count": 5,
   "metadata": {},
   "outputs": [
    {
     "name": "stdout",
     "output_type": "stream",
     "text": [
      "Total score (averaged over agents) this episode: -0.004999999888241291\n",
      "Total score (averaged over agents) this episode: -0.004999999888241291\n",
      "Total score (averaged over agents) this episode: -0.004999999888241291\n",
      "Total score (averaged over agents) this episode: 0.04500000085681677\n",
      "Total score (averaged over agents) this episode: -0.004999999888241291\n"
     ]
    }
   ],
   "source": [
    "for i in range(5):                                         # play game for 5 episodes\n",
    "    env_info = env.reset(train_mode=False)[brain_name]     # reset the environment    \n",
    "    states = env_info.vector_observations                  # get the current state (for each agent)\n",
    "    scores = np.zeros(num_agents)                          # initialize the score (for each agent)\n",
    "    while True:\n",
    "        actions = np.random.randn(num_agents, action_size) # select an action (for each agent)\n",
    "        actions = np.clip(actions, -1, 1)                  # all actions between -1 and 1\n",
    "        env_info = env.step(actions)[brain_name]           # send all actions to tne environment\n",
    "        next_states = env_info.vector_observations         # get next state (for each agent)\n",
    "        rewards = env_info.rewards                         # get reward (for each agent)\n",
    "        dones = env_info.local_done                        # see if episode finished\n",
    "        scores += env_info.rewards                         # update the score (for each agent)\n",
    "        states = next_states                               # roll over states to next time step\n",
    "        if np.any(dones):                                  # exit loop if episode finished\n",
    "            break\n",
    "    print('Total score (averaged over agents) this episode: {}'.format(np.mean(scores)))"
   ]
  },
  {
   "cell_type": "markdown",
   "metadata": {},
   "source": [
    "When finished, you can close the environment."
   ]
  },
  {
   "cell_type": "code",
   "execution_count": 7,
   "metadata": {},
   "outputs": [],
   "source": [
    "#env.close()"
   ]
  },
  {
   "cell_type": "markdown",
   "metadata": {},
   "source": [
    "### 4. It's Your Turn!\n",
    "\n",
    "Now it's your turn to train your own agent to solve the environment!  A few **important notes**:\n",
    "- When training the environment, set `train_mode=True`, so that the line for resetting the environment looks like the following:\n",
    "```python\n",
    "env_info = env.reset(train_mode=True)[brain_name]\n",
    "```\n",
    "- To structure your work, you're welcome to work directly in this Jupyter notebook, or you might like to start over with a new file!  You can see the list of files in the workspace by clicking on **_Jupyter_** in the top left corner of the notebook.\n",
    "- In this coding environment, you will not be able to watch the agents while they are training.  However, **_after training the agents_**, you can download the saved model weights to watch the agents on your own machine! "
   ]
  },
  {
   "cell_type": "code",
   "execution_count": 5,
   "metadata": {},
   "outputs": [],
   "source": [
    "from collections import namedtuple, deque\n",
    "import ddpg_agent"
   ]
  },
  {
   "cell_type": "code",
   "execution_count": 6,
   "metadata": {},
   "outputs": [],
   "source": [
    "from ddpg_agent import Agent as DDPGAgent, ReplayBuffer\n",
    "import random\n",
    "import torch\n",
    "import time"
   ]
  },
  {
   "cell_type": "code",
   "execution_count": 7,
   "metadata": {},
   "outputs": [],
   "source": [
    "class MADDPG:\n",
    "\n",
    "    def __init__(self, random_seed):\n",
    "        self.agents = [DDPGAgent(state_size,action_size,random_seed) for i in range(num_agents)]\n",
    "        self.memory = ReplayBuffer(ddpg_agent.BUFFER_SIZE, ddpg_agent.BATCH_SIZE, random.seed(random_seed))\n",
    "\n",
    "    def step(self, states, actions, rewards, next_states, dones, t):\n",
    "        self.memory.add(states, actions, rewards, next_states, dones)\n",
    "\n",
    "        for agent in self.agents:\n",
    "            agent.step(self.memory, t)\n",
    "\n",
    "    def act(self, states, add_noise=True):\n",
    "        actions = np.zeros([num_agents, action_size])\n",
    "        for i, agent in enumerate(self.agents):\n",
    "            actions[i, :] = agent.act(states[i], add_noise)\n",
    "        return actions\n",
    "    \n",
    "    ## Save the model along with some training information\n",
    "    def save_checkpoint(self, checkpoint_name, i_episode, time_elapsed_str, scores, window_avg):\n",
    "        checkpoint = {\n",
    "            'ddpg_params': {\n",
    "                'batch_size': ddpg_agent.BATCH_SIZE,\n",
    "                'buffer_size': ddpg_agent.BUFFER_SIZE,\n",
    "                'gamma': ddpg_agent.GAMMA,\n",
    "                'lr_actor': ddpg_agent.LR_ACTOR,\n",
    "                'lr_critic': ddpg_agent.LR_CRITIC,\n",
    "                'tau': ddpg_agent.TAU,\n",
    "                },\n",
    "            'episodes': i_episode,\n",
    "            'elapsed_time': time_elapsed_str,\n",
    "            'scores': scores,\n",
    "            'moving_avg': window_avg,\n",
    "            }\n",
    "        for i, agent in enumerate(self.agents):\n",
    "            checkpoint[\"agent{}\".format(i+1)] = {'actor_dict': agent.actor_local.state_dict(),\n",
    "                                                 'critic_dict': agent.critic_local.state_dict()}\n",
    "        \n",
    "        print('\\nSaving model ...', end=' ')\n",
    "        torch.save(checkpoint, checkpoint_name)\n",
    "        print('done.')\n",
    "    def reset(self):        \n",
    "        for agent in self.agents:\n",
    "            agent.reset()"
   ]
  },
  {
   "cell_type": "code",
   "execution_count": 8,
   "metadata": {},
   "outputs": [],
   "source": [
    "TARGET = 0.5\n",
    "WINDOW_SIZE = 100\n",
    "\n",
    "def train_maddpg(checkpoint_name = \"test.pt\", n_episodes=10000):\n",
    "    scores_deque = deque(maxlen=WINDOW_SIZE)\n",
    "    scores = []\n",
    "    window_avg = []\n",
    "    \n",
    "    ## Perform n_episodes of training\n",
    "    absolute_start_time = time.time()\n",
    "    window_start_time = time.time()\n",
    "    \n",
    "    maddpg_agent = MADDPG(random_seed=0)\n",
    "    \n",
    "    for i_episode in range(1, n_episodes+1):  \n",
    "        env_info = env.reset(train_mode=True)[brain_name]     \n",
    "        states = env_info.vector_observations               \n",
    "        score = np.zeros(num_agents)\n",
    "\n",
    "        maddpg_agent.reset()\n",
    "        t = 0\n",
    "        # Intead of a max len, it should play until loose due to the fact that the best it play, \n",
    "        # it has more time to accumulate points\n",
    "        while True:\n",
    "            actions = maddpg_agent.act(states)\n",
    "            env_info = env.step(actions)[brain_name]            \n",
    "            next_states = env_info.vector_observations\n",
    "            rewards = env_info.rewards         \n",
    "            dones = env_info.local_done                         \n",
    "            maddpg_agent.step(states, actions, rewards, next_states, dones, t)        \n",
    "            states = next_states\n",
    "            score += rewards \n",
    "            t +=1\n",
    "\n",
    "            if any(dones):                                 \n",
    "                break\n",
    "        #print(t)\n",
    "        score_max = np.max(score)\n",
    "        scores.append(score_max)\n",
    "        scores_deque.append(score_max)\n",
    "        window_score = np.mean(scores_deque)\n",
    "        window_avg.append(window_score)\n",
    "        \n",
    "\n",
    "        print('\\rEpisode {}\\tScore: {:.3f}\\tWindow Score: {:.3f}'.format(i_episode, score_max, window_score), end=\"\")  \n",
    "\n",
    "        if i_episode % WINDOW_SIZE == 0:\n",
    "            time_window = time.time() - window_start_time\n",
    "            time_window_str = time.strftime('%Mm%Ss', time.gmtime(time_window))\n",
    "            window_start_time = time.time()\n",
    "            print('\\r({}) Episode {}\\tScore: {:.3f}\\tWindow score: {:.3f}'.format(time_window_str, i_episode , score_max, window_score))\n",
    "\n",
    "        if window_score >= TARGET:\n",
    "            #maddpg_agent.save_weights()\n",
    "            time_elapsed = time.time() - absolute_start_time\n",
    "            time_elapsed_str = time.strftime('%Hh%Mm%Ss', time.gmtime(time_elapsed))\n",
    "            maddpg_agent.save_checkpoint(checkpoint_name, i_episode, time_elapsed_str, scores, window_avg)\n",
    "            print(\"\\rSolved in episode: {} \\tWindow score: {:.3f} \\tTime elapsed: {}\".format(i_episode , window_score, time_elapsed_str))\n",
    "            break\n",
    "    return scores , window_avg"
   ]
  },
  {
   "cell_type": "code",
   "execution_count": null,
   "metadata": {},
   "outputs": [
    {
     "name": "stdout",
     "output_type": "stream",
     "text": [
      "Episode 32\tScore: 0.000\tWindow Score: 0.003"
     ]
    }
   ],
   "source": [
    "scores , window_avg = train_maddpg()"
   ]
  },
  {
   "cell_type": "code",
   "execution_count": 13,
   "metadata": {},
   "outputs": [
    {
     "name": "stdout",
     "output_type": "stream",
     "text": [
      "(00m47s) Episode 100\tScore: 0.000\tWindow score: 0.002\n",
      "(00m54s) Episode 200\tScore: 0.000\tWindow score: 0.000\n",
      "(00m55s) Episode 300\tScore: 0.000\tWindow score: 0.000\n",
      "(00m55s) Episode 400\tScore: 0.000\tWindow score: 0.000\n",
      "(00m55s) Episode 500\tScore: 0.000\tWindow score: 0.000\n",
      "(00m55s) Episode 600\tScore: 0.000\tWindow score: 0.000\n",
      "(00m59s) Episode 700\tScore: 0.000\tWindow score: 0.003\n",
      "(00m59s) Episode 800\tScore: 0.000\tWindow score: 0.003\n",
      "(00m55s) Episode 900\tScore: 0.000\tWindow score: 0.000\n",
      "(00m55s) Episode 1000\tScore: 0.000\tWindow score: 0.000\n",
      "(00m56s) Episode 1100\tScore: 0.000\tWindow score: 0.000\n",
      "(01m00s) Episode 1200\tScore: 0.000\tWindow score: 0.005\n",
      "(01m34s) Episode 1300\tScore: 0.000\tWindow score: 0.031\n",
      "(01m22s) Episode 1400\tScore: 0.000\tWindow score: 0.029\n",
      "(01m13s) Episode 1500\tScore: 0.000\tWindow score: 0.025\n",
      "(01m12s) Episode 1600\tScore: 0.000\tWindow score: 0.019\n",
      "(01m12s) Episode 1700\tScore: 0.000\tWindow score: 0.017\n",
      "(01m59s) Episode 1800\tScore: 0.090\tWindow score: 0.066\n",
      "(02m03s) Episode 1900\tScore: 0.100\tWindow score: 0.079\n",
      "(02m30s) Episode 2000\tScore: 0.100\tWindow score: 0.105\n",
      "(02m41s) Episode 2100\tScore: 0.100\tWindow score: 0.113\n",
      "(03m08s) Episode 2200\tScore: 0.100\tWindow score: 0.132\n",
      "(03m15s) Episode 2300\tScore: 0.090\tWindow score: 0.135\n",
      "(05m44s) Episode 2400\tScore: 0.800\tWindow score: 0.221\n",
      "(04m53s) Episode 2500\tScore: 0.200\tWindow score: 0.194\n",
      "(08m32s) Episode 2600\tScore: 2.100\tWindow score: 0.324\n",
      "Episode 2651\tScore: 1.500\tWindow Score: 0.502\n",
      "Saving model ... done.\n",
      "Solved in episode: 2651 \tWindow score: 0.502 \tTime elapsed: 01h00m59s\n"
     ]
    }
   ],
   "source": [
    "scores , window_avg = train_maddpg(checkpoint_name = \"test_double_update.pt\")"
   ]
  },
  {
   "cell_type": "code",
   "execution_count": 14,
   "metadata": {},
   "outputs": [
    {
     "name": "stdout",
     "output_type": "stream",
     "text": [
      "(00m47s) Episode 100\tScore: 0.000\tWindow score: 0.001\n",
      "(00m57s) Episode 200\tScore: 0.000\tWindow score: 0.004\n",
      "(00m55s) Episode 300\tScore: 0.000\tWindow score: 0.000\n",
      "(00m55s) Episode 400\tScore: 0.000\tWindow score: 0.000\n",
      "(00m55s) Episode 500\tScore: 0.000\tWindow score: 0.000\n",
      "(00m55s) Episode 600\tScore: 0.000\tWindow score: 0.000\n",
      "(00m58s) Episode 700\tScore: 0.000\tWindow score: 0.001\n",
      "(01m14s) Episode 800\tScore: 0.000\tWindow score: 0.025\n",
      "(01m03s) Episode 900\tScore: 0.000\tWindow score: 0.007\n",
      "(01m00s) Episode 1000\tScore: 0.000\tWindow score: 0.006\n",
      "(00m55s) Episode 1100\tScore: 0.000\tWindow score: 0.000\n",
      "(01m05s) Episode 1200\tScore: 0.090\tWindow score: 0.011\n",
      "(01m19s) Episode 1300\tScore: 0.000\tWindow score: 0.030\n",
      "(01m36s) Episode 1400\tScore: 0.100\tWindow score: 0.052\n",
      "(01m38s) Episode 1500\tScore: 0.090\tWindow score: 0.058\n",
      "(01m52s) Episode 1600\tScore: 0.100\tWindow score: 0.080\n",
      "(02m02s) Episode 1700\tScore: 0.090\tWindow score: 0.095\n",
      "(02m00s) Episode 1800\tScore: 0.100\tWindow score: 0.093\n",
      "(02m01s) Episode 1900\tScore: 0.090\tWindow score: 0.096\n",
      "(02m06s) Episode 2000\tScore: 0.090\tWindow score: 0.098\n",
      "(02m31s) Episode 2100\tScore: 0.100\tWindow score: 0.102\n",
      "(02m59s) Episode 2200\tScore: 0.100\tWindow score: 0.112\n",
      "(04m07s) Episode 2300\tScore: 0.100\tWindow score: 0.166\n",
      "(03m50s) Episode 2400\tScore: 0.100\tWindow score: 0.159\n",
      "(04m09s) Episode 2500\tScore: 0.200\tWindow score: 0.173\n",
      "(03m56s) Episode 2600\tScore: 0.190\tWindow score: 0.163\n",
      "(03m07s) Episode 2700\tScore: 0.100\tWindow score: 0.130\n",
      "(02m46s) Episode 2800\tScore: 0.190\tWindow score: 0.120\n",
      "(03m21s) Episode 2900\tScore: 0.100\tWindow score: 0.135\n",
      "(03m30s) Episode 3000\tScore: 0.100\tWindow score: 0.152\n",
      "(03m16s) Episode 3100\tScore: 0.200\tWindow score: 0.141\n",
      "(02m43s) Episode 3200\tScore: 0.100\tWindow score: 0.117\n",
      "(04m17s) Episode 3300\tScore: 0.100\tWindow score: 0.174\n",
      "(07m04s) Episode 3400\tScore: 0.100\tWindow score: 0.279\n",
      "Episode 3433\tScore: 0.790\tWindow Score: 0.501\n",
      "Saving model ... done.\n",
      "Solved in episode: 3433 \tWindow score: 0.501 \tTime elapsed: 01h25m09s\n"
     ]
    }
   ],
   "source": [
    "scores , window_avg = train_maddpg(checkpoint_name = \"test_decay.pt\")"
   ]
  },
  {
   "cell_type": "markdown",
   "metadata": {},
   "source": [
    "### Evaluation\n",
    "\n",
    "Three checkpoints:\n",
    "* test_double_update.pt (two updates every step)\n",
    "* test_clip.pt (clip gradients of critic)\n",
    "* test_decay.pt (weight decay of critic of 1e-3)"
   ]
  },
  {
   "cell_type": "code",
   "execution_count": 10,
   "metadata": {},
   "outputs": [],
   "source": [
    "def print_checkpoint(checkpoint):\n",
    "    print(\"BATCH_SIZE: {}\\nBUFFER_SIZE: {}\\nGAMMA: {}\\nLR_ACTOR: {}\\\n",
    "          \\nLR_CRITIC: {}\\nTAU: {}\\nsolved in: {} episodes\\\n",
    "          \\ntraining time: {}\\nWindow average {}\".format(checkpoint['ddpg_params']['batch_size'],\n",
    "                                                          checkpoint['ddpg_params']['buffer_size'],\n",
    "                                                          checkpoint['ddpg_params']['gamma'],\n",
    "                                                          checkpoint['ddpg_params']['lr_actor'],\n",
    "                                                          checkpoint['ddpg_params']['lr_critic'],\n",
    "                                                          checkpoint['ddpg_params']['tau'],\n",
    "                                                          checkpoint['episodes']-100,\n",
    "                                                          checkpoint['elapsed_time'],\n",
    "                                                          checkpoint['moving_avg'][-1]))"
   ]
  },
  {
   "cell_type": "code",
   "execution_count": 11,
   "metadata": {},
   "outputs": [
    {
     "name": "stdout",
     "output_type": "stream",
     "text": [
      "BATCH_SIZE: 256\n",
      "BUFFER_SIZE: 100000\n",
      "GAMMA: 0.99\n",
      "LR_ACTOR: 0.0001          \n",
      "LR_CRITIC: 0.001\n",
      "TAU: 0.001\n",
      "solved in: 2115 episodes          \n",
      "training time: 00h46m12s\n",
      "Window average 0.5020000074803829\n"
     ]
    }
   ],
   "source": [
    "checkpoint = torch.load('test_clip.pt',map_location={'cuda:0': 'cpu'})\n",
    "maddpg_agent = MADDPG(random_seed=0)\n",
    "maddpg_agent.agents[0].actor_local.load_state_dict(checkpoint['agent1']['actor_dict'])\n",
    "maddpg_agent.agents[1].actor_local.load_state_dict(checkpoint['agent2']['actor_dict'])\n",
    "print_checkpoint(checkpoint)"
   ]
  },
  {
   "cell_type": "code",
   "execution_count": null,
   "metadata": {},
   "outputs": [],
   "source": [
    "for i in range(1, 6):                                      # play game for 5 episodes\n",
    "    env_info = env.reset(train_mode=False)[brain_name]     # reset the environment    \n",
    "    states = env_info.vector_observations                  # get the current state (for each agent)\n",
    "    scores = np.zeros(num_agents)                          # initialize the score (for each agent)\n",
    "    while True:\n",
    "        #actions = np.random.randn(num_agents, action_size) # select an action (for each agent)\n",
    "        actions = maddpg_agent.act(states, False)          # select an action (for each agent)\n",
    "        actions = np.clip(actions, -1, 1)                  # all actions between -1 and 1\n",
    "        env_info = env.step(actions)[brain_name]           # send all actions to tne environment\n",
    "        next_states = env_info.vector_observations         # get next state (for each agent)\n",
    "        rewards = env_info.rewards                         # get reward (for each agent)\n",
    "        dones = env_info.local_done                        # see if episode finished\n",
    "        scores += env_info.rewards                         # update the score (for each agent)\n",
    "        states = next_states                               # roll over states to next time step\n",
    "        if np.any(dones):                                  # exit loop if episode finished\n",
    "            break\n",
    "    print('Score (max over agents) from episode {}: {}'.format(i, np.max(scores)))"
   ]
  },
  {
   "cell_type": "code",
   "execution_count": null,
   "metadata": {},
   "outputs": [],
   "source": [
    "env.close()"
   ]
  },
  {
   "cell_type": "markdown",
   "metadata": {},
   "source": [
    "### Plots of scores"
   ]
  },
  {
   "cell_type": "code",
   "execution_count": 12,
   "metadata": {},
   "outputs": [
    {
     "data": {
      "image/png": "[encoded data removed]",
      "text/plain": [
       "<Figure size 1440x720 with 1 Axes>"
      ]
     },
     "metadata": {
      "needs_background": "light"
     },
     "output_type": "display_data"
    }
   ],
   "source": [
    "import matplotlib.pyplot as plt\n",
    "\n",
    "TARGET = 0.5\n",
    "\n",
    "scores_mean = checkpoint['scores']\n",
    "moving_avg_mean = checkpoint['moving_avg']\n",
    "\n",
    "target = [TARGET] * len(checkpoint['scores']) \n",
    "\n",
    "# Plot the main graph with the scores and moving average\n",
    "fig = plt.figure(figsize=(20,10))\n",
    "fig.suptitle('Rewards', fontsize='xx-large')\n",
    "\n",
    "ax = fig.add_subplot(111)\n",
    "ax.plot(scores_mean, label='Score', color='Green')\n",
    "ax.plot(moving_avg_mean, label='Window Average',\n",
    "        color='Blue', linewidth=3)\n",
    "ax.plot(target, label='Target', color='Red', linewidth=1 )\n",
    "ax.set_ylabel('Score', fontsize='xx-large')\n",
    "ax.set_xlabel('Episode', fontsize='xx-large')\n",
    "ax.legend(fontsize='xx-large', loc='upper left')\n",
    "\n",
    "plt.show()"
   ]
  }
 ],
 "metadata": {
  "kernelspec": {
   "display_name": "Python 3",
   "language": "python",
   "name": "python3"
  },
  "language_info": {
   "codemirror_mode": {
    "name": "ipython",
    "version": 3
   },
   "file_extension": ".py",
   "mimetype": "text/x-python",
   "name": "python",
   "nbconvert_exporter": "python",
   "pygments_lexer": "ipython3",
   "version": "3.6.10"
  }
 },
 "nbformat": 4,
 "nbformat_minor": 2
}
